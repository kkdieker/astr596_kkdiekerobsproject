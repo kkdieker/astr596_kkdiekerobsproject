{
 "cells": [
  {
   "cell_type": "code",
   "execution_count": null,
   "metadata": {},
   "outputs": [
    {
     "data": {
      "text/html": [
       "<div id=\"glowscript\" class=\"glowscript\"></div>"
      ],
      "text/plain": [
       "<IPython.core.display.HTML object>"
      ]
     },
     "metadata": {},
     "output_type": "display_data"
    },
    {
     "data": {
      "application/javascript": [
       "if (typeof Jupyter !== \"undefined\") { window.__context = { glowscript_container: $(\"#glowscript\").removeAttr(\"id\")};}else{ element.textContent = ' ';}"
      ],
      "text/plain": [
       "<IPython.core.display.Javascript object>"
      ]
     },
     "metadata": {},
     "output_type": "display_data"
    },
    {
     "name": "stdout",
     "output_type": "stream",
     "text": [
      "9.80665\n"
     ]
    },
    {
     "data": {
      "application/javascript": [
       "if (typeof Jupyter !== \"undefined\") {require.undef(\"nbextensions/vpython_libraries/glow.min\");}else{element.textContent = ' ';}"
      ],
      "text/plain": [
       "<IPython.core.display.Javascript object>"
      ]
     },
     "metadata": {},
     "output_type": "display_data"
    },
    {
     "data": {
      "application/javascript": [
       "if (typeof Jupyter !== \"undefined\") {require.undef(\"nbextensions/vpython_libraries/glowcomm\");}else{element.textContent = ' ';}"
      ],
      "text/plain": [
       "<IPython.core.display.Javascript object>"
      ]
     },
     "metadata": {},
     "output_type": "display_data"
    },
    {
     "data": {
      "application/javascript": [
       "if (typeof Jupyter !== \"undefined\") {require.undef(\"nbextensions/vpython_libraries/jquery-ui.custom.min\");}else{element.textContent = ' ';}"
      ],
      "text/plain": [
       "<IPython.core.display.Javascript object>"
      ]
     },
     "metadata": {},
     "output_type": "display_data"
    },
    {
     "data": {
      "application/javascript": [
       "if (typeof Jupyter !== \"undefined\") {require([\"nbextensions/vpython_libraries/glow.min\"], function(){console.log(\"GLOW LOADED\");});}else{element.textContent = ' ';}"
      ],
      "text/plain": [
       "<IPython.core.display.Javascript object>"
      ]
     },
     "metadata": {},
     "output_type": "display_data"
    },
    {
     "data": {
      "application/javascript": [
       "if (typeof Jupyter !== \"undefined\") {require([\"nbextensions/vpython_libraries/glowcomm\"], function(){console.log(\"GLOWCOMM LOADED\");});}else{element.textContent = ' ';}"
      ],
      "text/plain": [
       "<IPython.core.display.Javascript object>"
      ]
     },
     "metadata": {},
     "output_type": "display_data"
    },
    {
     "data": {
      "application/javascript": [
       "if (typeof Jupyter !== \"undefined\") {require([\"nbextensions/vpython_libraries/jquery-ui.custom.min\"], function(){console.log(\"JQUERY LOADED\");});}else{element.textContent = ' ';}"
      ],
      "text/plain": [
       "<IPython.core.display.Javascript object>"
      ]
     },
     "metadata": {},
     "output_type": "display_data"
    }
   ],
   "source": [
    "from vpython import graph, gcurve, color, sphere, vector, cylinder, rate\n",
    "from math import sin, cos, pi\n",
    "from scipy.constants import g\n",
    "\n",
    "## Physical constants.\n",
    "mass1   = 1.0 # mass of pendulum 1\n",
    "mass2   = mass1 # mass of pendulum 2\n",
    "mtot    = mass1 + mass2 # total mass\n",
    "length1 = 20 # lendth of pendulum 1\n",
    "length2 = 40 # length of pendulum 2\n",
    "damping = 0.0 # damping coefficient\n",
    "grav    = (10**2)*g # magnitude of graviational field\n",
    "print(g)\n",
    "## Differential equation for second derivative of theta.\n",
    "def secondDerivs(theta1, theta1dot, theta2, theta2dot, time):\n",
    "\n",
    "# Calculate frequently used stuff.\n",
    "    cos1  = cos(theta1)\n",
    "    cos2  = cos(theta2)\n",
    "    sin1  = sin(theta1)\n",
    "    sin2  = sin(theta2)\n",
    "    sin12 = sin(theta1 - theta2)\n",
    "    cos12 = cos(theta1 - theta2)\n",
    "\n",
    "# The diff eqs!\n",
    "\n",
    "    A = mtot*length1\n",
    "    B = mass2*length2*cos12\n",
    "    C = -mass2*length2*theta2dot**2*sin12-mtot*grav*sin1\n",
    "    D = length1/length2*cos12\n",
    "    E = (length1*theta1dot**2*sin12-grav*sin2)/length2\n",
    "\n",
    "    theta1dotdot = (C-B*E)/(A-B*D)\n",
    "    theta2dotdot = E-D*theta1dotdot\n",
    "\n",
    "\n",
    "    energy = -mass1*grav*length1*cos1-mass2*grav*(length1*cos1+length2*cos2)\n",
    "    energy += 0.5*mass1*theta1dot**2*length1**2+0.5*mass2*(theta1dot**2*length1**2+theta2dot**2*length2**2+2*length1*length2*theta1dot*theta2dot*cos12)\n",
    "    \n",
    "    secondDerivs = [theta1dotdot, theta2dotdot, energy] ## Store results.\n",
    "    \n",
    "    return secondDerivs\n",
    "\n",
    "## Initialize run.\n",
    "time     = 0.0\n",
    "tmax     = 400\n",
    "dt       = 0.005\n",
    "\n",
    "theta1    = 0.50*pi ## Green double pendulum.\n",
    "theta1dot = 0\n",
    "theta2    = 0.50*pi\n",
    "theta2dot = 0\n",
    "\n",
    "#theta3    = 0.50*pi ## White double pendulum.\n",
    "#theta3dot = 0\n",
    "#theta4    = 0.60*pi\n",
    "#theta4dot = 0\n",
    "\n",
    "disp = 4*max(length1,length2)#,length3,length4) ## Distance between pendulae.\n",
    "\n",
    "## Create visuals.\n",
    "graph(x=0,y=0,title = 'theta1 vs. time')\n",
    "theta1vstime = gcurve(color=color.green)\n",
    "theta2vstime = gcurve(color=color.white)\n",
    "graph(x=0,y=0,title = 'theta2 vs. theta1')\n",
    "phasespace1 = gcurve(color=color.green)\n",
    "phasespace2 = gcurve(color=color.white)\n",
    "graph(x=500,y=400)\n",
    "bob1 = sphere(pos=vector(length1*sin(theta1),-length1*cos(theta1),0),\n",
    "             radius = 1,color=color.green)\n",
    "rod1 = cylinder(pos=vector(0,0,0),axis=bob1.pos,radius=.1,color=color.green)\n",
    "bob2 = sphere(pos=vector(bob1.pos.x+(length2*sin(theta2)),-length2*cos(theta2),0),\n",
    "             radius = 1,color=color.white,make_trail=True)\n",
    "rod2 = cylinder(pos=vector(bob1.pos.x,bob1.pos.y,0),axis=bob2.pos-bob1.pos,radius=0.1,color=color.white)\n",
    "\n",
    "#bob3 = sphere(pos=vector(length1*sin(theta3)+disp,-length1*cos(theta3),0),\n",
    "#             radius = length1/10.0,color=color.white)\n",
    "#rod3 = cylinder(pos=vector(disp,0,0),axis=vector(bob3.pos.x,bob3.pos.y,0),radius=bob3.radius*0.1,color=color.white)\n",
    "#bob4 = sphere(pos=vector(bob3.pos.x + (length2*sin(theta4)), -length2*cos(theta4), 0),\n",
    "#             radius = length2/10.0,color=color.white,make_trail=True)\n",
    "#rod4 = cylinder(pos=vector(bob4.pos.x,bob4.pos.y),axis=bob4.pos-bob3.pos,radius=bob4.radius*0.1,color=color.white,MakeTrail=True)\n",
    "\n",
    "#rod0 = cylinder(pos=(0,0,0),axis=bob.pos,radius=bob.radius*0.1,\n",
    "#                color=color.red,\n",
    "#                opacity = 0.25) # Reference line.\n",
    "\n",
    "while time < tmax:\n",
    "    rate(40)\n",
    "\n",
    "    thetadotdot = secondDerivs(theta1, theta1dot, theta2, theta2dot, time)\n",
    "    theta1dot = theta1dot + thetadotdot[0]*dt\n",
    "    theta1    = theta1 + theta1dot*dt\n",
    "    theta2dot = theta2dot + thetadotdot[1]*dt\n",
    "    theta2    = theta2 + theta2dot*dt\n",
    "    time      = time + dt\n",
    "    bob1.pos  = vector(length1*sin(theta1),-length1*cos(theta1),0)\n",
    "    rod1.axis = bob1.pos\n",
    "    bob2.pos  = vector(bob1.pos.x + (length2*sin(theta2)), bob1.pos.y -length2*cos(theta2),0)\n",
    "    rod2.pos  = bob1.pos\n",
    "    rod2.axis = bob2.pos - bob1.pos\n",
    "\n",
    "#    thetadotdot = secondDerivs(theta3, theta3dot, theta4, theta4dot, time)\n",
    "#    theta3dot = theta3dot + thetadotdot[0]*dt\n",
    "#    theta3    = theta3 + theta3dot*dt\n",
    "#    theta4dot = theta4dot + thetadotdot[1]*dt\n",
    "#    theta4    = theta4 + theta4dot*dt\n",
    "#    time      = time + dt\n",
    "#    bob3.pos  = (length1*sin(theta3)+disp,-length1*cos(theta3),0)\n",
    "#    rod3.axis = bob3.pos-vector(disp,0,0)\n",
    "#    bob4.pos  = bob3.pos+(length2*sin(theta4),-length2*cos(theta4),0)\n",
    "#    rod4.pos  = bob3.pos\n",
    "#    rod4.axis = bob4.pos - bob3.pos\n",
    "    \n",
    "\n",
    "    theta1vstime.plot(pos=(time,theta1))\n",
    "    theta2vstime.plot(pos=(time,theta2))\n",
    "#    phasespace1.plot(pos=(mod(theta2,pi),mod(theta1,pi)))\n",
    "#    phasespace2.plot(pos=(mod(theta4,pi),mod(theta3,pi)))\n"
   ]
  }
 ],
 "metadata": {
  "kernelspec": {
   "display_name": "Python 3",
   "language": "python",
   "name": "python3"
  },
  "language_info": {
   "codemirror_mode": {
    "name": "ipython",
    "version": 3
   },
   "file_extension": ".py",
   "mimetype": "text/x-python",
   "name": "python",
   "nbconvert_exporter": "python",
   "pygments_lexer": "ipython3",
   "version": "3.7.4"
  }
 },
 "nbformat": 4,
 "nbformat_minor": 2
}
